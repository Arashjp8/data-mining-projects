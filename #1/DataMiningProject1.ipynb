{
 "cells": [
  {
   "cell_type": "markdown",
   "metadata": {},
   "source": [
    "# Nice\n",
    "first jupyter notebook shit"
   ]
  },
  {
   "cell_type": "code",
   "execution_count": 20,
   "metadata": {},
   "outputs": [],
   "source": [
    "import numpy as np\n",
    "import matplotlib.pyplot as plt\n",
    "import pandas as pd\n",
    "from pandas.plotting import scatter_matrix\n",
    "import csv\n",
    "import seaborn as sns"
   ]
  },
  {
   "cell_type": "code",
   "execution_count": 21,
   "metadata": {},
   "outputs": [],
   "source": [
    "# Load the data from the CSV file\n",
    "with open(r'./sources/insurance.csv', \"r\") as file:\n",
    "    csvreader = csv.reader(file)\n",
    "    header = next(csvreader)\n",
    "    data = list(csvreader)"
   ]
  },
  {
   "cell_type": "code",
   "execution_count": 22,
   "metadata": {},
   "outputs": [],
   "source": [
    "# Extract the data for each attribute\n",
    "ages = [float(row[0]) for row in data]\n",
    "bmis = [float(row[2]) for row in data]\n",
    "children = [int(row[3]) for row in data]\n",
    "charges = [float(row[6]) for row in data]"
   ]
  },
  {
   "cell_type": "code",
   "execution_count": 23,
   "metadata": {},
   "outputs": [],
   "source": [
    "# Define a function to compute statistics for a list of values\n",
    "def compute_statistics(values):\n",
    "    max_value = max(values)\n",
    "    min_value = min(values)\n",
    "    q1 = np.percentile(values, 25)\n",
    "    median = np.median(values)\n",
    "    q3 = np.percentile(values, 75)\n",
    "    std_dev = np.std(values)\n",
    "    mean = np.mean(values)\n",
    "    return max_value, min_value, q1, q3, median, std_dev, mean"
   ]
  },
  {
   "cell_type": "code",
   "execution_count": 24,
   "metadata": {},
   "outputs": [],
   "source": [
    "# Compute statistics for each attribute\n",
    "age_stats = compute_statistics(ages)\n",
    "bmi_stats = compute_statistics(bmis)\n",
    "children_stats = compute_statistics(children)\n",
    "charges_stats = compute_statistics(charges)"
   ]
  },
  {
   "cell_type": "code",
   "execution_count": 25,
   "metadata": {},
   "outputs": [
    {
     "name": "stdout",
     "output_type": "stream",
     "text": [
      "Age Statistics:\n",
      "Maximum: 64.0\n",
      "Minimum: 18.0\n",
      "First Quartile (Q1): 27.0\n",
      "Third Quartile (Q3): 51.0\n",
      "Median: 39.0\n",
      "Standard Deviation: 14.044709038954522\n",
      "Mean: 39.20702541106129\n"
     ]
    }
   ],
   "source": [
    "# Print the statistics for each attribute\n",
    "print(\"Age Statistics:\")\n",
    "print(\"Maximum:\", age_stats[0])\n",
    "print(\"Minimum:\", age_stats[1])\n",
    "print(\"First Quartile (Q1):\", age_stats[2])\n",
    "print(\"Third Quartile (Q3):\", age_stats[3])\n",
    "print(\"Median:\", age_stats[4])\n",
    "print(\"Standard Deviation:\", age_stats[5])\n",
    "print(\"Mean:\", age_stats[6])"
   ]
  },
  {
   "cell_type": "code",
   "execution_count": 26,
   "metadata": {},
   "outputs": [
    {
     "data": {
      "text/plain": [
       "<Figure size 1200x800 with 0 Axes>"
      ]
     },
     "execution_count": 26,
     "metadata": {},
     "output_type": "execute_result"
    },
    {
     "data": {
      "text/plain": [
       "<Figure size 1200x800 with 0 Axes>"
      ]
     },
     "metadata": {},
     "output_type": "display_data"
    }
   ],
   "source": [
    "# Create histograms for each attribute\n",
    "plt.figure(figsize=(12, 8))"
   ]
  },
  {
   "cell_type": "code",
   "execution_count": 27,
   "metadata": {},
   "outputs": [
    {
     "data": {
      "text/plain": [
       "Text(0, 0.5, 'Frequency')"
      ]
     },
     "execution_count": 27,
     "metadata": {},
     "output_type": "execute_result"
    },
    {
     "data": {
      "image/png": "[encoded data removed]",
      "text/plain": [
       "<Figure size 640x480 with 1 Axes>"
      ]
     },
     "metadata": {},
     "output_type": "display_data"
    }
   ],
   "source": [
    "# Age Histogram\n",
    "plt.subplot(221)\n",
    "plt.hist(ages, bins=20, edgecolor='k', alpha=0.75)\n",
    "plt.title('Age Histogram')\n",
    "plt.xlabel('Age')\n",
    "plt.ylabel('Frequency')"
   ]
  }
 ],
 "metadata": {
  "kernelspec": {
   "display_name": "Python 3",
   "language": "python",
   "name": "python3"
  },
  "language_info": {
   "codemirror_mode": {
    "name": "ipython",
    "version": 3
   },
   "file_extension": ".py",
   "mimetype": "text/x-python",
   "name": "python",
   "nbconvert_exporter": "python",
   "pygments_lexer": "ipython3",
   "version": "3.11.5"
  },
  "orig_nbformat": 4
 },
 "nbformat": 4,
 "nbformat_minor": 2
}
