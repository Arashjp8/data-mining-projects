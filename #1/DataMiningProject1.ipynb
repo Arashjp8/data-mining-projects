{
 "cells": [
  {
   "cell_type": "markdown",
   "metadata": {},
   "source": [
    "# Nice\n",
    "first jupyter notebook shit"
   ]
  },
  {
   "cell_type": "code",
   "execution_count": 227,
   "metadata": {},
   "outputs": [],
   "source": [
    "import numpy as np\n",
    "import pandas as pd\n",
    "import seaborn as sns\n",
    "import matplotlib.pyplot as plt\n",
    "import itertools"
   ]
  },
  {
   "cell_type": "code",
   "execution_count": 228,
   "metadata": {},
   "outputs": [],
   "source": [
    "#reading data from csv file\n",
    "csv = pd.read_csv('/home/arash/dev/python-workspace/#1/sources/insurance.csv')"
   ]
  },
  {
   "cell_type": "code",
   "execution_count": 229,
   "metadata": {},
   "outputs": [],
   "source": [
    "# Extract columns\n",
    "ages = csv['age'].tolist()\n",
    "sexes = csv['sex'].tolist()\n",
    "bmis = csv['bmi'].tolist()\n",
    "children = csv['children'].tolist()\n",
    "smoker = csv['smoker'].tolist()\n",
    "regions = csv['region'].tolist()\n",
    "charges = csv['charges'].tolist()\n",
    "\n",
    "numerical_columns = ['age', 'bmi', 'children', 'charges']\n",
    "nominal_cloumns = ['sex', 'smoker', 'region']"
   ]
  },
  {
   "cell_type": "code",
   "execution_count": 230,
   "metadata": {},
   "outputs": [
    {
     "name": "stdout",
     "output_type": "stream",
     "text": [
      "Here are the first 10 rows of our data:\n",
      "   age     sex     bmi  children smoker     region      charges\n",
      "0   19  female  27.900         0    yes  southwest  16884.92400\n",
      "1   18    male  33.770         1     no  southeast   1725.55230\n",
      "2   28    male  33.000         3     no  southeast   4449.46200\n",
      "3   33    male  22.705         0     no  northwest  21984.47061\n",
      "4   32    male  28.880         0     no  northwest   3866.85520\n",
      "5   31  female  25.740         0     no  southeast   3756.62160\n",
      "6   46  female  33.440         1     no  southeast   8240.58960\n",
      "7   37  female  27.740         3     no  northwest   7281.50560\n",
      "8   37    male  29.830         2     no  northeast   6406.41070\n",
      "9   60  female  25.840         0     no  northwest  28923.13692\n"
     ]
    }
   ],
   "source": [
    "print(\"Here are the first 10 rows of our data:\")\n",
    "print(csv.head(10))"
   ]
  },
  {
   "cell_type": "code",
   "execution_count": 231,
   "metadata": {},
   "outputs": [
    {
     "name": "stdout",
     "output_type": "stream",
     "text": [
      "\n",
      "A summary of our numerical data:\n",
      "               age          bmi     children       charges\n",
      "count  1338.000000  1338.000000  1338.000000   1338.000000\n",
      "mean     39.207025    30.663397     1.094918  13270.422265\n",
      "std      14.049960     6.098187     1.205493  12110.011237\n",
      "min      18.000000    15.960000     0.000000   1121.873900\n",
      "25%      27.000000    26.296250     0.000000   4740.287150\n",
      "50%      39.000000    30.400000     1.000000   9382.033000\n",
      "75%      51.000000    34.693750     2.000000  16639.912515\n",
      "max      64.000000    53.130000     5.000000  63770.428010\n"
     ]
    }
   ],
   "source": [
    "print(\"\\nA summary of our numerical data:\")\n",
    "print(csv.describe())"
   ]
  },
  {
   "cell_type": "code",
   "execution_count": 232,
   "metadata": {},
   "outputs": [
    {
     "name": "stdout",
     "output_type": "stream",
     "text": [
      "Count of unique values for each column:\n",
      "age           47\n",
      "sex            2\n",
      "bmi          548\n",
      "children       6\n",
      "smoker         2\n",
      "region         4\n",
      "charges     1337\n",
      "dtype: int64\n"
     ]
    }
   ],
   "source": [
    "print(\"Count of unique values for each column:\")\n",
    "print(csv.nunique())"
   ]
  },
  {
   "cell_type": "code",
   "execution_count": 233,
   "metadata": {},
   "outputs": [
    {
     "name": "stdout",
     "output_type": "stream",
     "text": [
      "Count of non-null values for each column:\n",
      "age         1338\n",
      "sex         1338\n",
      "bmi         1338\n",
      "children    1338\n",
      "smoker      1338\n",
      "region      1338\n",
      "charges     1338\n",
      "dtype: int64\n"
     ]
    }
   ],
   "source": [
    "print(\"Count of non-null values for each column:\")\n",
    "print(csv.count())"
   ]
  },
  {
   "cell_type": "code",
   "execution_count": 234,
   "metadata": {},
   "outputs": [
    {
     "name": "stdout",
     "output_type": "stream",
     "text": [
      "\n",
      "Value counts for sex:\n",
      "male      676\n",
      "female    662\n",
      "Name: sex, dtype: int64\n",
      "\n",
      "Value counts for smoker:\n",
      "no     1064\n",
      "yes     274\n",
      "Name: smoker, dtype: int64\n",
      "\n",
      "Value counts for region:\n",
      "southeast    364\n",
      "southwest    325\n",
      "northwest    325\n",
      "northeast    324\n",
      "Name: region, dtype: int64\n"
     ]
    }
   ],
   "source": [
    "for column in nominal_cloumns:\n",
    "    print(f\"\\nValue counts for {column}:\")\n",
    "    print(csv[column].value_counts())"
   ]
  },
  {
   "cell_type": "code",
   "execution_count": 235,
   "metadata": {},
   "outputs": [
    {
     "name": "stdout",
     "output_type": "stream",
     "text": [
      "\n",
      "Correlation matrix for our numeric data:\n"
     ]
    },
    {
     "name": "stderr",
     "output_type": "stream",
     "text": [
      "/tmp/ipykernel_5488/4244167015.py:1: FutureWarning: The default value of numeric_only in DataFrame.corr is deprecated. In a future version, it will default to False. Select only valid columns or specify the value of numeric_only to silence this warning.\n",
      "  correlation_matrix = csv.corr()\n"
     ]
    },
    {
     "data": {
      "image/png": "[encoded data removed]",
      "text/plain": [
       "<Figure size 640x480 with 2 Axes>"
      ]
     },
     "metadata": {},
     "output_type": "display_data"
    }
   ],
   "source": [
    "correlation_matrix = csv.corr()\n",
    "sns.heatmap(correlation_matrix, annot=True, cmap=\"crest\", fmt=\".3f\")\n",
    "print(\"\\nCorrelation matrix for our numeric data:\")\n",
    "plt.show()"
   ]
  },
  {
   "cell_type": "code",
   "execution_count": null,
   "metadata": {},
   "outputs": [],
   "source": []
  },
  {
   "cell_type": "code",
   "execution_count": null,
   "metadata": {},
   "outputs": [],
   "source": []
  },
  {
   "cell_type": "code",
   "execution_count": null,
   "metadata": {},
   "outputs": [],
   "source": []
  },
  {
   "cell_type": "code",
   "execution_count": null,
   "metadata": {},
   "outputs": [],
   "source": []
  },
  {
   "cell_type": "code",
   "execution_count": null,
   "metadata": {},
   "outputs": [],
   "source": []
  },
  {
   "cell_type": "code",
   "execution_count": null,
   "metadata": {},
   "outputs": [],
   "source": []
  },
  {
   "cell_type": "code",
   "execution_count": null,
   "metadata": {},
   "outputs": [],
   "source": []
  },
  {
   "cell_type": "code",
   "execution_count": null,
   "metadata": {},
   "outputs": [],
   "source": []
  }
 ],
 "metadata": {
  "kernelspec": {
   "display_name": "Python 3",
   "language": "python",
   "name": "python3"
  },
  "language_info": {
   "codemirror_mode": {
    "name": "ipython",
    "version": 3
   },
   "file_extension": ".py",
   "mimetype": "text/x-python",
   "name": "python",
   "nbconvert_exporter": "python",
   "pygments_lexer": "ipython3",
   "version": "3.11.5"
  },
  "orig_nbformat": 4
 },
 "nbformat": 4,
 "nbformat_minor": 2
}
